{
  "nbformat": 4,
  "nbformat_minor": 0,
  "metadata": {
    "colab": {
      "provenance": [],
      "authorship_tag": "ABX9TyNMsEovEcbwmsMzr1gY1p5g",
      "include_colab_link": true
    },
    "kernelspec": {
      "name": "python3",
      "display_name": "Python 3"
    },
    "language_info": {
      "name": "python"
    }
  },
  "cells": [
    {
      "cell_type": "markdown",
      "metadata": {
        "id": "view-in-github",
        "colab_type": "text"
      },
      "source": [
        "<a href=\"https://colab.research.google.com/github/thewimpykido/testrepo/blob/main/DataScienceEcosystem.ipynb\" target=\"_parent\"><img src=\"https://colab.research.google.com/assets/colab-badge.svg\" alt=\"Open In Colab\"/></a>"
      ]
    },
    {
      "cell_type": "markdown",
      "source": [
        "#**Data Science Tools and Ecosystem**"
      ],
      "metadata": {
        "id": "x1vtGeURRbCE"
      }
    },
    {
      "cell_type": "markdown",
      "source": [
        "##In this notebook, Data Science Tools and Ecosystem are summarized."
      ],
      "metadata": {
        "id": "pq8SAaJnSeWO"
      }
    },
    {
      "cell_type": "markdown",
      "source": [
        "**Objectives:**\n",
        "+ List popular languages for Data Science\n",
        "+ List popular libraries for Data Science\n",
        "+ List popular tools (development area) for Data Science\n",
        "+ Introduce arithmetic operations"
      ],
      "metadata": {
        "id": "Ooq7RtxUZ0P_"
      }
    },
    {
      "cell_type": "markdown",
      "source": [
        "Popular Data Science Languages\n",
        "1. Python\n",
        "2. Julia\n",
        "3. SQL\n",
        "4. R"
      ],
      "metadata": {
        "id": "N3RR_Ziyadwm"
      }
    },
    {
      "cell_type": "markdown",
      "source": [
        "Popular libraries that Data Scientists use are:\n",
        "1. Numpy\n",
        "2. Pandas\n",
        "3. Pytorch\n",
        "4. Tensorflow\n",
        "5. Matplotlib"
      ],
      "metadata": {
        "id": "dey5RpuHT4I5"
      }
    },
    {
      "cell_type": "markdown",
      "source": [
        "| Data Science Tools |\n",
        "|--------------------|\n",
        "| Jupyter Lab |\n",
        "| Visual Studio code |\n",
        "| R studio |"
      ],
      "metadata": {
        "id": "irRlcT3aVXC0"
      }
    },
    {
      "cell_type": "markdown",
      "source": [
        "###Below are a few examples of evaluating arithmetic expressions in Python"
      ],
      "metadata": {
        "id": "Y79wC_7kWTuP"
      }
    },
    {
      "cell_type": "code",
      "source": [
        "(3*4)+5\n",
        "#This a simple arithmetic expression to mutiply then add integers"
      ],
      "metadata": {
        "colab": {
          "base_uri": "https://localhost:8080/"
        },
        "id": "mQ_YyMuXWhMM",
        "outputId": "2ef80870-845c-4fda-f792-9744340b55b0"
      },
      "execution_count": 3,
      "outputs": [
        {
          "output_type": "execute_result",
          "data": {
            "text/plain": [
              "17"
            ]
          },
          "metadata": {},
          "execution_count": 3
        }
      ]
    },
    {
      "cell_type": "code",
      "source": [
        "#This will convert 200 minutes to hours by diving by 60\n",
        "str(200//60) + ' minutes'"
      ],
      "metadata": {
        "colab": {
          "base_uri": "https://localhost:8080/",
          "height": 35
        },
        "id": "w7Izrsv-W6NQ",
        "outputId": "cbdfe138-ce17-43b8-9a2a-ec9e40b5f316"
      },
      "execution_count": 6,
      "outputs": [
        {
          "output_type": "execute_result",
          "data": {
            "text/plain": [
              "'3 minutes'"
            ],
            "application/vnd.google.colaboratory.intrinsic+json": {
              "type": "string"
            }
          },
          "metadata": {},
          "execution_count": 6
        }
      ]
    },
    {
      "cell_type": "markdown",
      "source": [
        "##Author\n",
        "Miriam"
      ],
      "metadata": {
        "id": "Om8UeqVYbYKZ"
      }
    }
  ]
}